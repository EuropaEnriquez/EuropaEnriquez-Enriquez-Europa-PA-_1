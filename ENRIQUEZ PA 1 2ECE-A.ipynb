{
 "cells": [
  {
   "cell_type": "code",
   "execution_count": 1,
   "id": "d5dcf84e-4070-449d-af9f-5064fb19011d",
   "metadata": {},
   "outputs": [
    {
     "name": "stdout",
     "output_type": "stream",
     "text": [
      "ehllo\n",
      "dlorw\n"
     ]
    }
   ],
   "source": [
    "def alphabet_soup(word):\n",
    "    return ''.join(sorted(word)) #Sort letters in word and join them back into a string\n",
    "\n",
    "print(alphabet_soup(\"hello\")) #OUTPUT: ehllo\n",
    "print(alphabet_soup(\"world\")) #OUTPUT: dlorw\n"
   ]
  },
  {
   "cell_type": "code",
   "execution_count": 37,
   "id": "cfab128e-1fe7-45e0-b5c4-68f7d32e4b37",
   "metadata": {},
   "outputs": [
    {
     "name": "stdout",
     "output_type": "stream",
     "text": [
      "Make me :) \n",
      "Make me >:( \n",
      "Make me :( \n",
      "Make me :D \n"
     ]
    }
   ],
   "source": [
    "def emotify(sentence):\n",
    "    #Splits the sentence into individual words\n",
    "    words = sentence.split()\n",
    "    result = \"\"\n",
    "\n",
    "    #Loops through each word and replaces specific ones with emojis\n",
    "    for word in words:\n",
    "        if word == \"smile\":\n",
    "            result += \":) \"\n",
    "        elif word == \"grin\":\n",
    "            result += \":D \"\n",
    "        elif word == \"sad\":\n",
    "            result += \":( \"\n",
    "        elif word == \"mad\":\n",
    "            result += \">:( \"\n",
    "        else:\n",
    "            result += word + \" \"  #Keeps other words unchanged\n",
    "\n",
    "    return result\n",
    "\n",
    "# Test cases\n",
    "print(emotify(\"Make me smile\"))  # OUTPUT: Make me :) \n",
    "print(emotify(\"Make me mad\"))    # OUTPUT: Make me >:( \n",
    "print(emotify(\"Make me sad\"))    # OUTPUT: Make me :( \n",
    "print(emotify(\"Make me grin\"))   # OUTPUT: Make me :D \n"
   ]
  },
  {
   "cell_type": "code",
   "execution_count": 1,
   "id": "dafd56eb-ae9b-4a0c-9ec1-07e98e2b77e2",
   "metadata": {},
   "outputs": [
    {
     "name": "stdout",
     "output_type": "stream",
     "text": [
      "first: 1\n",
      "middle: [2, 3, 4, 5]\n",
      "last: 6\n"
     ]
    }
   ],
   "source": [
    "lst = [1, 2, 3, 4, 5, 6]   #create a list of numbers\n",
    "\n",
    "first = lst[0]             #the first element will be 1\n",
    "middle = lst[1:-1]         #all elements displayed except first & last → [2, 3, 4, 5]\n",
    "last = lst[-1]             #the last element → 6\n",
    "\n",
    "print(\"first:\", first)     #first: 1\n",
    "print(\"middle:\", middle)   #middle: [2, 3, 4, 5]\n",
    "print(\"last:\", last)       #last: 6"
   ]
  },
  {
   "cell_type": "code",
   "execution_count": null,
   "id": "8ba70258-eafc-4556-9986-d9537dc5d9fe",
   "metadata": {},
   "outputs": [],
   "source": []
  }
 ],
 "metadata": {
  "kernelspec": {
   "display_name": "Python [conda env:base] *",
   "language": "python",
   "name": "conda-base-py"
  },
  "language_info": {
   "codemirror_mode": {
    "name": "ipython",
    "version": 3
   },
   "file_extension": ".py",
   "mimetype": "text/x-python",
   "name": "python",
   "nbconvert_exporter": "python",
   "pygments_lexer": "ipython3",
   "version": "3.13.5"
  }
 },
 "nbformat": 4,
 "nbformat_minor": 5
}
