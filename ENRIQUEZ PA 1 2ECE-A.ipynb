{
 "cells": [
  {
   "cell_type": "code",
   "execution_count": 1,
   "id": "d5dcf84e-4070-449d-af9f-5064fb19011d",
   "metadata": {},
   "outputs": [
    {
     "name": "stdout",
     "output_type": "stream",
     "text": [
      "ehllo\n",
      "dlorw\n"
     ]
    }
   ],
   "source": [
    "def alphabet_soup(word):\n",
    "    return ''.join(sorted(word))\n",
    "\n",
    "print(alphabet_soup(\"hello\")) \n",
    "print(alphabet_soup(\"world\")) \n"
   ]
  },
  {
   "cell_type": "code",
   "execution_count": 37,
   "id": "cfab128e-1fe7-45e0-b5c4-68f7d32e4b37",
   "metadata": {},
   "outputs": [
    {
     "name": "stdout",
     "output_type": "stream",
     "text": [
      "Make me :) \n",
      "Make me >:( \n",
      "Make me :( \n",
      "Make me :D \n"
     ]
    }
   ],
   "source": [
    "def emotify(sentence):\n",
    "    words = sentence.split()\n",
    "    result = \"\"\n",
    "\n",
    "    for word in words:\n",
    "        if word == \"smile\":\n",
    "            result += \":) \"\n",
    "        elif word == \"grin\":\n",
    "            result += \":D \"\n",
    "        elif word == \"sad\":\n",
    "            result += \":( \"\n",
    "        elif word == \"mad\":\n",
    "            result += \">:( \"\n",
    "        else:\n",
    "            result += word + \" \"\n",
    "\n",
    "    return result\n",
    "\n",
    "\n",
    "print(emotify(\"Make me smile\"))\n",
    "print(emotify(\"Make me mad\"))\n",
    "print(emotify(\"Make me sad\"))\n",
    "print(emotify(\"Make me grin\"))"
   ]
  },
  {
   "cell_type": "code",
   "execution_count": 43,
   "id": "dafd56eb-ae9b-4a0c-9ec1-07e98e2b77e2",
   "metadata": {},
   "outputs": [
    {
     "name": "stdout",
     "output_type": "stream",
     "text": [
      "first: 1\n",
      "middle: [2, 3, 4, 5]\n",
      "last: 6\n"
     ]
    }
   ],
   "source": [
    "lst = [1, 2, 3, 4, 5, 6]\n",
    "\n",
    "first = lst[0]\n",
    "middle = lst[1:-1]\n",
    "last = lst[-1]\n",
    "\n",
    "print(\"first:\", first)\n",
    "print(\"middle:\", middle)\n",
    "print(\"last:\", last)\n"
   ]
  }
 ],
 "metadata": {
  "kernelspec": {
   "display_name": "Python [conda env:base] *",
   "language": "python",
   "name": "conda-base-py"
  },
  "language_info": {
   "codemirror_mode": {
    "name": "ipython",
    "version": 3
   },
   "file_extension": ".py",
   "mimetype": "text/x-python",
   "name": "python",
   "nbconvert_exporter": "python",
   "pygments_lexer": "ipython3",
   "version": "3.13.5"
  }
 },
 "nbformat": 4,
 "nbformat_minor": 5
}
